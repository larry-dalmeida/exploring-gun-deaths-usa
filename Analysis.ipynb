{
 "cells": [
  {
   "cell_type": "markdown",
   "metadata": {
    "collapsed": true
   },
   "source": [
    "# Import and format data"
   ]
  },
  {
   "cell_type": "code",
   "execution_count": 1,
   "metadata": {
    "collapsed": true
   },
   "outputs": [],
   "source": [
    "import csv\n",
    "\n",
    "# Read data from guns.csv\n",
    "data = list(csv.reader(open('guns.csv')))\n",
    "\n",
    "# Extract Headers\n",
    "headers = data[:1]\n",
    "data = data[1:]"
   ]
  },
  {
   "cell_type": "markdown",
   "metadata": {},
   "source": [
    "# Count fatalities by year"
   ]
  },
  {
   "cell_type": "code",
   "execution_count": 2,
   "metadata": {},
   "outputs": [
    {
     "name": "stdout",
     "output_type": "stream",
     "text": [
      "{'2012': 33563, '2013': 33636, '2014': 33599}\n"
     ]
    }
   ],
   "source": [
    "year_counts = {}\n",
    "years = [row[1] for row in data]\n",
    "for year in years:\n",
    "    if year not in year_counts:\n",
    "        year_counts[year] = 1\n",
    "    else:\n",
    "        year_counts[year] += 1\n",
    "\n",
    "print(year_counts)"
   ]
  },
  {
   "cell_type": "markdown",
   "metadata": {},
   "source": [
    "Number of deaths seem to be consistent from 2012 - 2014\n",
    "\n",
    "---\n",
    "# Count fatalities by month"
   ]
  },
  {
   "cell_type": "code",
   "execution_count": 3,
   "metadata": {},
   "outputs": [
    {
     "name": "stdout",
     "output_type": "stream",
     "text": [
      "{1: 8273, 2: 7093, 3: 8289, 4: 8455, 5: 8669, 6: 8677, 7: 8989, 8: 8783, 9: 8508, 10: 8406, 11: 8243, 12: 8413}\n"
     ]
    }
   ],
   "source": [
    "import datetime\n",
    "\n",
    "# Fix day to first day of month since we don't have the day details\n",
    "dates = [datetime.datetime(year=int(row[1]), month=int(row[2]), day=1) for row in data]\n",
    "\n",
    "# Count how many times each unique date appears in the data\n",
    "date_counts = {}\n",
    "\n",
    "for date in dates:\n",
    "    date_string = date.strftime(\"%B %d, %Y\")\n",
    "    if date_string in date_counts:\n",
    "        date_counts[date_string] += 1\n",
    "    else:\n",
    "        date_counts[date_string] = 1\n",
    "        \n",
    "# Count how many deaths occur by month\n",
    "month_counts = {}\n",
    "for date in dates:\n",
    "    if date.month in month_counts:\n",
    "        month_counts[date.month] += 1\n",
    "    else:\n",
    "        month_counts[date.month] = 1\n",
    "\n",
    "print(month_counts)"
   ]
  },
  {
   "cell_type": "markdown",
   "metadata": {},
   "source": [
    "Rise in fatalities from April - August and then dip until December. It is known that crime increases during Summer when the temperature is high so may be consistent with that? Why the sudden rise in deaths in December?\n",
    "\n",
    "---\n",
    "# Count by gender"
   ]
  },
  {
   "cell_type": "code",
   "execution_count": 4,
   "metadata": {},
   "outputs": [
    {
     "name": "stdout",
     "output_type": "stream",
     "text": [
      "{'M': 86349, 'F': 14449}\n"
     ]
    }
   ],
   "source": [
    "sex_counts = { 'M': 0, 'F': 0 }\n",
    "for row in data:\n",
    "    sex_counts[row[5]] += 1\n",
    "\n",
    "print(sex_counts)"
   ]
  },
  {
   "cell_type": "markdown",
   "metadata": {},
   "source": [
    "More male fatalities than female, consistent with other studies about male agression/risk.\n",
    "\n",
    "---\n",
    "# Count by Race"
   ]
  },
  {
   "cell_type": "code",
   "execution_count": 5,
   "metadata": {},
   "outputs": [
    {
     "name": "stdout",
     "output_type": "stream",
     "text": [
      "{'Asian/Pacific Islander': 1326, 'White': 66237, 'Native American/Native Alaskan': 917, 'Black': 23296, 'Hispanic': 9022}\n"
     ]
    }
   ],
   "source": [
    "race_counts = {}\n",
    "for row in data:\n",
    "    if row[7] in race_counts:\n",
    "        race_counts[row[7]] += 1\n",
    "    else:\n",
    "        race_counts[row[7]] = 1\n",
    "\n",
    "print(race_counts)"
   ]
  },
  {
   "cell_type": "markdown",
   "metadata": {},
   "source": [
    "Number of fatalities by race is consistent with the population size of each race."
   ]
  },
  {
   "cell_type": "markdown",
   "metadata": {},
   "source": [
    "# Deeper analysis of fatalities by race"
   ]
  },
  {
   "cell_type": "code",
   "execution_count": 6,
   "metadata": {
    "collapsed": true
   },
   "outputs": [],
   "source": [
    "census = list(csv.reader(open('census.csv')))"
   ]
  },
  {
   "cell_type": "markdown",
   "metadata": {},
   "source": [
    "## Creating a manual mapping to race data from the census"
   ]
  },
  {
   "cell_type": "code",
   "execution_count": 7,
   "metadata": {
    "collapsed": true
   },
   "outputs": [],
   "source": [
    "mapping = { \n",
    "    'Asian/Pacific Islander': 15834141, \n",
    "    'Black': 40250635, \n",
    "    'Native American/Native Alaskan': 3739506, \n",
    "    'Hispanic': 44618105, \n",
    "    'White': 197318956 \n",
    "}"
   ]
  },
  {
   "cell_type": "markdown",
   "metadata": {},
   "source": [
    "## Fatalities by race per 100,000 people"
   ]
  },
  {
   "cell_type": "code",
   "execution_count": 8,
   "metadata": {},
   "outputs": [
    {
     "name": "stdout",
     "output_type": "stream",
     "text": [
      "{'Asian/Pacific Islander': 8.374309664161762, 'White': 33.56849303419181, 'Native American/Native Alaskan': 24.521955573811088, 'Black': 57.8773477735196, 'Hispanic': 20.220491210910907}\n"
     ]
    }
   ],
   "source": [
    "race_per_hundredk = {}\n",
    "for race in race_counts:\n",
    "    race_per_hundredk[race] = (race_counts[race]/mapping[race]) * 100000\n",
    "\n",
    "print(race_per_hundredk)"
   ]
  },
  {
   "cell_type": "markdown",
   "metadata": {},
   "source": [
    "## Fatalities by Homicide Intent"
   ]
  },
  {
   "cell_type": "code",
   "execution_count": 9,
   "metadata": {},
   "outputs": [
    {
     "name": "stdout",
     "output_type": "stream",
     "text": [
      "{'White': 9147, 'Asian/Pacific Islander': 559, 'Black': 19510, 'Native American/Native Alaskan': 326, 'Hispanic': 5634}\n",
      "{'White': 4.6356417981453335, 'Asian/Pacific Islander': 3.530346230970155, 'Black': 48.471284987180944, 'Native American/Native Alaskan': 8.717729026240365, 'Hispanic': 12.627161104219914}\n"
     ]
    }
   ],
   "source": [
    "intents = [row[3] for row in data]\n",
    "races = [row[7] for row in data]\n",
    "\n",
    "homicide_race_counts = {}\n",
    "\n",
    "for i, race in enumerate(races):\n",
    "    if intents[i] == 'Homicide':\n",
    "        if race not in homicide_race_counts:\n",
    "            homicide_race_counts[race] = 1\n",
    "        else:\n",
    "            homicide_race_counts[race] += 1\n",
    "\n",
    "print(homicide_race_counts)\n",
    "\n",
    "homicides_by_race_per_hundredk = {}\n",
    "for race in homicide_race_counts:\n",
    "    homicides_by_race_per_hundredk[race] = (homicide_race_counts[race]/mapping[race]) * 100000\n",
    "\n",
    "print(homicides_by_race_per_hundredk)"
   ]
  },
  {
   "cell_type": "markdown",
   "metadata": {},
   "source": [
    "Data shows highest homicide rates per 100,000 amongst the Black/African American population"
   ]
  },
  {
   "cell_type": "markdown",
   "metadata": {},
   "source": [
    "### Next possible routes to go\n",
    "- Figure out the link, if any, between month and homicide rate.\n",
    "- Explore the homicide rate by gender.\n",
    "- Explore the rates of other intents, like Accidental, by gender and race.\n",
    "- Find out if gun death rates correlate to location and education."
   ]
  },
  {
   "cell_type": "markdown",
   "metadata": {
    "collapsed": true
   },
   "source": [
    "# Homicide rate by month"
   ]
  },
  {
   "cell_type": "code",
   "execution_count": 13,
   "metadata": {},
   "outputs": [
    {
     "name": "stdout",
     "output_type": "stream",
     "text": [
      "{3: 2780, 4: 2845, 6: 3130, 7: 3269, 8: 3125, 9: 2966, 10: 2968, 12: 3191, 1: 2829, 2: 2178, 5: 2976, 11: 2919}\n"
     ]
    }
   ],
   "source": [
    "homicides = [row for row in data if row[3] == 'Homicide']\n",
    "\n",
    "# Fix day to first day of month since we don't have the day details\n",
    "homicides_dates = [datetime.datetime(year=int(row[1]), month=int(row[2]), day=1) for row in homicides]\n",
    "\n",
    "month_counts = {}\n",
    "\n",
    "for i, homicide in enumerate(homicides):\n",
    "    month = homicides_dates[i].month\n",
    "    if month not in month_counts:\n",
    "        month_counts[month] = 1\n",
    "    else:\n",
    "        month_counts[month] += 1\n",
    "print(month_counts)"
   ]
  },
  {
   "cell_type": "markdown",
   "metadata": {},
   "source": [
    "Homicides rise during Summer from May till August and then start to dip again, unit a steep rise in December"
   ]
  },
  {
   "cell_type": "code",
   "execution_count": 15,
   "metadata": {},
   "outputs": [
    {
     "name": "stdout",
     "output_type": "stream",
     "text": [
      "{'M': 29803, 'F': 5373}\n"
     ]
    }
   ],
   "source": [
    "homicides_gender_count = {}\n",
    "for homicide in homicides:\n",
    "    gender = homicide[5]\n",
    "    if gender not in homicides_gender_count:\n",
    "        homicides_gender_count[gender] = 1\n",
    "    else:\n",
    "        homicides_gender_count[gender] += 1\n",
    "\n",
    "print(homicides_gender_count)"
   ]
  },
  {
   "cell_type": "markdown",
   "metadata": {},
   "source": [
    "Males are responsible for around 84.7% of all homicides"
   ]
  },
  {
   "cell_type": "markdown",
   "metadata": {},
   "source": [
    "## Homicides instances with Police involved"
   ]
  },
  {
   "cell_type": "code",
   "execution_count": 24,
   "metadata": {},
   "outputs": [
    {
     "name": "stdout",
     "output_type": "stream",
     "text": [
      "{'White': 0.3593167196769478, 'Native American/Native Alaskan': 0.6685375020122979, 'Black': 0.8844580961269306, 'Hispanic': 0.6320304280067475, 'Asian/Pacific Islander': 0.18946401955117112}\n"
     ]
    }
   ],
   "source": [
    "homicides_with_police = [homicide for homicide in homicides if homicide[4] == '1']\n",
    "homicide_with_police_race_counts = {}\n",
    "for homicide in homicides_with_police:\n",
    "    if homicide[7] in homicide_with_police_race_counts:\n",
    "        homicide_with_police_race_counts[homicide[7]] += 1\n",
    "    else:\n",
    "        homicide_with_police_race_counts[homicide[7]] = 1\n",
    "\n",
    "homicides_with_police_by_race_per_hundredk = {}\n",
    "for race in homicide_with_police_race_counts:\n",
    "    homicides_with_police_by_race_per_hundredk[race] = (homicide_with_police_race_counts[race]/mapping[race]) * 100000\n",
    "\n",
    "print(homicides_with_police_by_race_per_hundredk)"
   ]
  },
  {
   "cell_type": "markdown",
   "metadata": {},
   "source": [
    "## Homicides by education\n",
    "\n",
    "### Reference\n",
    "1 -- Less than High School\n",
    "2 -- Graduated from High School or equivalent\n",
    "3 -- Some College\n",
    "4 -- At least graduated from College\n",
    "5 -- Not available"
   ]
  },
  {
   "cell_type": "code",
   "execution_count": 27,
   "metadata": {},
   "outputs": [
    {
     "name": "stdout",
     "output_type": "stream",
     "text": [
      "{'2': 15649, '3': 5640, '5': 455, '1': 11839, '4': 1559, 'NA': 34}\n"
     ]
    }
   ],
   "source": [
    "education_counts = {}\n",
    "for homicide in homicides:\n",
    "    education = homicide[10]\n",
    "    if education in education_counts:\n",
    "        education_counts[education] += 1\n",
    "    else:\n",
    "        education_counts[education] = 1\n",
    "print(education_counts)"
   ]
  },
  {
   "cell_type": "markdown",
   "metadata": {},
   "source": [
    "Homicide rate decreases as education levels increase"
   ]
  },
  {
   "cell_type": "markdown",
   "metadata": {},
   "source": [
    "# Accidental Deaths"
   ]
  },
  {
   "cell_type": "code",
   "execution_count": 25,
   "metadata": {},
   "outputs": [
    {
     "name": "stdout",
     "output_type": "stream",
     "text": [
      "{'M': 1421, 'F': 218}\n"
     ]
    }
   ],
   "source": [
    "accidental_deaths = [row for row in data if row[3] == 'Accidental']\n",
    "accidental_deaths_by_gender = {}\n",
    "for death in accidental_deaths:\n",
    "    gender = death[5]\n",
    "    if gender not in accidental_deaths_by_gender:\n",
    "        accidental_deaths_by_gender[gender] = 1\n",
    "    else:\n",
    "        accidental_deaths_by_gender[gender] += 1\n",
    "print(accidental_deaths_by_gender)"
   ]
  },
  {
   "cell_type": "markdown",
   "metadata": {},
   "source": [
    "Men are 6.5 times more likely to die by accident than women! **Possible route to explore is employment rate of men in hazardous environments or identify if men tend to lead more riskier lives than women. How does education fit into all of this?**"
   ]
  },
  {
   "cell_type": "code",
   "execution_count": null,
   "metadata": {
    "collapsed": true
   },
   "outputs": [],
   "source": []
  }
 ],
 "metadata": {
  "kernelspec": {
   "display_name": "Python 3",
   "language": "python",
   "name": "python3"
  }
 },
 "nbformat": 4,
 "nbformat_minor": 1
}
